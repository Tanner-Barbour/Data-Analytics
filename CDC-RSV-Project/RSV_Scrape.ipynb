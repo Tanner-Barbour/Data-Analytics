{
 "cells": [
  {
   "cell_type": "code",
   "execution_count": 9,
   "metadata": {},
   "outputs": [
    {
     "data": {
      "text/plain": [
       "['(RSV-NET)\",\"count\":\"95346\"},{\"item\":\"Oregon\",\"count\":\"90786\"},{\"item\":\"New',\n",
       " 'York\",\"count\":\"90786\"},{\"item\":\"Georgia\",\"count\":\"90786\"},{\"item\":\"Maryland\",\"count\":\"90786\"},{\"item\":\"Minnesota\",\"count\":\"90786\"},{\"item\":\"Tennessee\",\"count\":\"89995\"},{\"item\":\"California\",\"count\":\"84648\"},{\"item\":\"New',\n",
       " 'Mexico\",\"count\":\"71976\"},{\"item\":\"Michigan\",\"count\":\"65640\"},{\"item\":\"Colorado\",\"count\":\"65640\"},{\"item\":\"Connecticut\",\"count\":\"65640\"},{\"item\":\"Utah\",\"count\":\"55760\"}],\"smallest\":\"California\",\"count\":\"1048575\",\"cardinality\":\"13\"},\"format\":{},\"flags\":null},{\"id\":568817865,\"name\":\"Season\",\"fieldName\":\"season\",\"position\":2,\"dataTypeName\":\"text\",\"renderTypeName\":\"text\",\"tableColumnId\":144353839,\"cachedContents\":{\"non_null\":\"1048575\",\"largest\":\"2022-2023\",\"null\":\"0\",\"top\":[{\"item\":\"2020-2021\",\"count\":\"248040\"},{\"item\":\"2021-2022\",\"count\":\"237369\"},{\"item\":\"2018-2019\",\"count\":\"149760\"},{\"item\":\"2019-2020\",\"count\":\"149760\"},{\"item\":\"2022-2023\",\"count\":\"62280\"},{\"item\":\"2017-2018\",\"count\":\"57024\"},{\"item\":\"2016-2017\",\"count\":\"50688\"},{\"item\":\"2015-2016\",\"count\":\"50688\"},{\"item\":\"2014-2015\",\"count\":\"42966\"}],\"smallest\":\"2014-2015\",\"count\":\"1048575\",\"cardinality\":\"9\"},\"format\":{},\"flags\":null},{\"id\":568817864,\"name\":\"MMWR']"
      ]
     },
     "execution_count": 9,
     "metadata": {},
     "output_type": "execute_result"
    }
   ],
   "source": [
    "import pandas as pd\n",
    "from bs4 import BeautifulSoup\n",
    "import requests\n",
    "\n",
    "rsv_df = pd.DataFrame(pd.read_csv(\"Weekly_RSV_Hosp.csv\", low_memory=False))\n",
    "pop_df = pd.DataFrame(pd.read_csv(\"State_Population.csv\"))\n",
    "new_columns = [\"Geographic Area\",\"Census\",\"Estimates Base\",\"2010\",\"2011\",\"2012\",\"2013\",\"2014\",\"2015\",\"2016\",\"2017\",\"2018\",\"2019\"]\n",
    "pop_df.columns = new_columns\n",
    "pop_df = pop_df.iloc[8:56]\n",
    "url = \"https://data.cdc.gov/Case-Surveillance/Weekly-Rates-of-Laboratory-Confirmed-RSV-Hospitali/29hc-w46k\"\n",
    "page = requests.get(url)\n",
    "soup = BeautifulSoup(page.text,'lxml')\n",
    "\n",
    "def my_tag_selector(tag):\n",
    "\t# We only accept \"a\" tags with a titlelink class\n",
    "\treturn tag.name == \"script\" \n",
    "    #and tag.has_attr(\"class\")\n",
    "\n",
    "res = requests.get(url)\n",
    "\n",
    "soup = BeautifulSoup(res.content, 'html.parser')\n",
    "\n",
    "wip = soup.find_all(my_tag_selector)\n",
    "wip[21]\n",
    "\n",
    "table1 = soup.select('script')[21]\n",
    "\n",
    "tablestr = str(table1)\n",
    "\n",
    "new_json = (tablestr.split()[5:])\n",
    "new_json[3:6]"
   ]
  },
  {
   "cell_type": "code",
   "execution_count": 3,
   "metadata": {},
   "outputs": [
    {
     "name": "stderr",
     "output_type": "stream",
     "text": [
      "WARNING:root:Requests made without an app_token will be subject to strict throttling limits.\n"
     ]
    }
   ],
   "source": [
    "import pandas as pd\n",
    "from sodapy import Socrata\n",
    "client = Socrata(\"data.cdc.gov\", None)\n",
    "results = client.get(\"29hc-w46k\", limit=2000)\n",
    "results_df = pd.DataFrame.from_records(results)\n",
    "results_df.to_csv('Weekly_RSV_Hosp.csv')"
   ]
  },
  {
   "cell_type": "code",
   "execution_count": null,
   "metadata": {},
   "outputs": [],
   "source": []
  }
 ],
 "metadata": {
  "kernelspec": {
   "display_name": "Python 3",
   "language": "python",
   "name": "python3"
  },
  "language_info": {
   "codemirror_mode": {
    "name": "ipython",
    "version": 3
   },
   "file_extension": ".py",
   "mimetype": "text/x-python",
   "name": "python",
   "nbconvert_exporter": "python",
   "pygments_lexer": "ipython3",
   "version": "3.10.9"
  },
  "orig_nbformat": 4
 },
 "nbformat": 4,
 "nbformat_minor": 2
}
